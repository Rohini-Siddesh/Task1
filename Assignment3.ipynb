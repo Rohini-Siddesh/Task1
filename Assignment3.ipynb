{
 "cells": [
  {
   "cell_type": "markdown",
   "metadata": {},
   "source": [
    "ASSIGNMENT 3"
   ]
  },
  {
   "cell_type": "markdown",
   "metadata": {},
   "source": [
    "Task 1: "
   ]
  },
  {
   "cell_type": "code",
   "execution_count": null,
   "metadata": {},
   "outputs": [],
   "source": [
    "1. \n",
    "Write a function to compute 5/0 and use try/except to catch the exceptions"
   ]
  },
  {
   "cell_type": "code",
   "execution_count": 1,
   "metadata": {},
   "outputs": [
    {
     "name": "stdout",
     "output_type": "stream",
     "text": [
      "Enter first value:5\n",
      "Enter second value:2\n",
      "2.5\n",
      "Bye!\n"
     ]
    }
   ],
   "source": [
    "a=int(input(\"Enter first value:\"))\n",
    "    \n",
    "b=int(input(\"Enter second value:\")) \n",
    "    \n",
    "\n",
    "try:\n",
    "    r=(a/b)\n",
    "    print(r)\n",
    "      \n",
    "except Exception:\n",
    "    print(\"A number cannot be divideded by 0\")\n",
    "finally:\n",
    "    print(\"Bye!\")"
   ]
  },
  {
   "cell_type": "code",
   "execution_count": null,
   "metadata": {},
   "outputs": [],
   "source": [
    "2. \n",
    "Implement a Python program to generate all sentences where subject \n",
    "is in [\"Americans\", \"Indians\"] and verb is in [\"Play\", \"watch\"] and the object is in [\"Baseball\",\"cricket\"]. "
   ]
  },
  {
   "cell_type": "code",
   "execution_count": 17,
   "metadata": {
    "scrolled": true
   },
   "outputs": [
    {
     "name": "stdout",
     "output_type": "stream",
     "text": [
      "{'Indians', 'Americans'} {'play', 'watch'} {'Baseball', 'Cricket'}\n"
     ]
    }
   ],
   "source": [
    "Subject=[\"Americans\",\"Indians\"] \n",
    "s1=set(Subject)\n",
    "verbs=[\"play\",\"watch\"] \n",
    "s2=set(verbs)\n",
    "objects=[\"Baseball\",\"Cricket\"]\n",
    "s3=set(objects)\n",
    "\n",
    "print(s1,s2,s3)\n"
   ]
  },
  {
   "cell_type": "code",
   "execution_count": 11,
   "metadata": {},
   "outputs": [],
   "source": [
    "a1=\"Americans play baseball\"\n",
    "a2=\"Americans play Cricket\"\n",
    "a3=\"Indians watch Cricket\""
   ]
  },
  {
   "cell_type": "code",
   "execution_count": 12,
   "metadata": {},
   "outputs": [],
   "source": [
    "x1=a1.split(\" \")\n",
    "x2=a2.split(\" \")\n",
    "x3=a3.split(\" \")"
   ]
  },
  {
   "cell_type": "code",
   "execution_count": 13,
   "metadata": {},
   "outputs": [],
   "source": [
    "x=[x1,x2,x3]"
   ]
  },
  {
   "cell_type": "code",
   "execution_count": 14,
   "metadata": {},
   "outputs": [
    {
     "name": "stdout",
     "output_type": "stream",
     "text": [
      "Americans play Cricket\n",
      "Indians watch Cricket\n"
     ]
    }
   ],
   "source": [
    "\n",
    "\n",
    "for i in x:\n",
    "    l1=[]\n",
    "    if(i[0] in s1): l1.append(i[0])\n",
    "    if(i[1] in s2): l1.append(i[1])\n",
    "    if(i[2] in s3): l1.append(i[2])\n",
    "    if(len(l1)==3): print(\" \".join(l1))\n",
    "            \n",
    "        \n",
    "        "
   ]
  },
  {
   "cell_type": "markdown",
   "metadata": {},
   "source": [
    "Task 2: "
   ]
  },
  {
   "cell_type": "code",
   "execution_count": null,
   "metadata": {},
   "outputs": [],
   "source": [
    "1.  \n",
    " Write a function so that the columns of the output matrix are powers of the input vector.  \n",
    "The order of the powers is determined by the increasing boolean argument. Specifically, when              \n",
    "increasing is False, the i-th output column is the input vector raised element-wise to the power          \n",
    "of N - i - 1.  \n",
    " "
   ]
  }
 ],
 "metadata": {
  "kernelspec": {
   "display_name": "Python 3",
   "language": "python",
   "name": "python3"
  },
  "language_info": {
   "codemirror_mode": {
    "name": "ipython",
    "version": 3
   },
   "file_extension": ".py",
   "mimetype": "text/x-python",
   "name": "python",
   "nbconvert_exporter": "python",
   "pygments_lexer": "ipython3",
   "version": "3.7.3"
  }
 },
 "nbformat": 4,
 "nbformat_minor": 2
}
